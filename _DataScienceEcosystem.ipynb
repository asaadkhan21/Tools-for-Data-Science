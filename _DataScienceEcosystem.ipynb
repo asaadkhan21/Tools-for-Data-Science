{
 "cells": [
  {
   "cell_type": "markdown",
   "id": "e7d3a82d-db42-4e86-a511-3deda50e13a8",
   "metadata": {},
   "source": [
    "# Data Science Tools and Ecosystem"
   ]
  },
  {
   "cell_type": "markdown",
   "id": "d0d6f75f-4d46-40dc-a76d-631e60705021",
   "metadata": {
    "tags": []
   },
   "source": [
    "In this notebook, Data Science Tools and Ecosystem are summarized."
   ]
  },
  {
   "cell_type": "markdown",
   "id": "0d1f1a7a-8ef7-4622-a2a0-2f5fb4a99750",
   "metadata": {},
   "source": [
    "Some of the popular languages that Data Scientists use are:\n",
    "1. Python\n",
    "2. R\n",
    "3. SQL\n",
    "4. Julia\n",
    "5. Scala\n",
    "6. MATLAB"
   ]
  },
  {
   "cell_type": "markdown",
   "id": "c6fe11aa-fa58-4144-9828-02a994dac448",
   "metadata": {},
   "source": [
    "Some commonly used libraries by data scientists are:\n",
    "\n",
    "1. NumPy\n",
    "2. Pandas\n",
    "3. Matplotlib\n",
    "4. Seaborn\n",
    "5. Scikit-learn\n",
    "6. TensorFlow\n",
    "7. PyTorch\n",
    "8. Keras\n",
    "9. SciPy\n",
    "10. Statsmodels"
   ]
  },
  {
   "cell_type": "markdown",
   "id": "8891b216-a936-49aa-b1b5-d1213a0524ff",
   "metadata": {},
   "source": [
    "| Data Science Tools |\n",
    "| --- |\n",
    "| Jupyter Notebook |\n",
    "| RStudio |\n",
    "| Apache Zeppelin |\n"
   ]
  },
  {
   "cell_type": "markdown",
   "id": "b964d86b-f1b1-4fb6-b354-068eee2d2fcd",
   "metadata": {
    "tags": []
   },
   "source": [
    "### Below are a few examples of evaluating arithmetic expressions in Python:"
   ]
  },
  {
   "cell_type": "code",
   "execution_count": 3,
   "id": "d09bec9b-9170-4991-b248-5e06fd599383",
   "metadata": {
    "tags": []
   },
   "outputs": [
    {
     "data": {
      "text/plain": [
       "17"
      ]
     },
     "execution_count": 3,
     "metadata": {},
     "output_type": "execute_result"
    }
   ],
   "source": [
    "#This a simple arithmetic expression to mutiply then add integers\n",
    "(3*4)+5"
   ]
  },
  {
   "cell_type": "code",
   "execution_count": 4,
   "id": "7eefafbb-a44c-4619-b7db-a4a966c747c5",
   "metadata": {
    "tags": []
   },
   "outputs": [
    {
     "name": "stdout",
     "output_type": "stream",
     "text": [
      "3.3333333333333335\n"
     ]
    }
   ],
   "source": [
    "#This will convert 200 minutes to hours by diving by 60\n",
    "minutes = 200\n",
    "hours = minutes / 60\n",
    "print(hours)\n"
   ]
  },
  {
   "cell_type": "markdown",
   "id": "b6bc9cbb-538d-4b73-b7fb-24b115f468bf",
   "metadata": {},
   "source": [
    "**Objectives:**\n",
    "\n",
    "Introduction to Markdown in Jupyternotebook\n",
    "\n",
    "Introduction to Creating Table in Markdown of Jupyternotebook\n",
    "\n",
    "Introduction to Arithmetic expression in Jupyternotebook"
   ]
  },
  {
   "cell_type": "markdown",
   "id": "e84c3809-326e-42b6-bb04-c6dccab18b4e",
   "metadata": {},
   "source": [
    "## Author\n",
    "Asort Khan"
   ]
  },
  {
   "cell_type": "code",
   "execution_count": null,
   "id": "9a3738e9-afbc-47d0-9f06-644052924055",
   "metadata": {},
   "outputs": [],
   "source": []
  }
 ],
 "metadata": {
  "kernelspec": {
   "display_name": "Python",
   "language": "python",
   "name": "conda-env-python-py"
  },
  "language_info": {
   "codemirror_mode": {
    "name": "ipython",
    "version": 3
   },
   "file_extension": ".py",
   "mimetype": "text/x-python",
   "name": "python",
   "nbconvert_exporter": "python",
   "pygments_lexer": "ipython3",
   "version": "3.7.12"
  }
 },
 "nbformat": 4,
 "nbformat_minor": 5
}
